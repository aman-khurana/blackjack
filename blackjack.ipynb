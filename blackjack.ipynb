{
 "cells": [
  {
   "cell_type": "markdown",
   "metadata": {
    "heading_collapsed": true
   },
   "source": [
    "### Imports "
   ]
  },
  {
   "cell_type": "code",
   "execution_count": 2,
   "metadata": {
    "hidden": true
   },
   "outputs": [],
   "source": [
    "import gym\n",
    "import numpy as np\n",
    "import matplotlib.pyplot as plt\n",
    "from gym import spaces\n",
    "\n",
    "import seaborn as sns"
   ]
  },
  {
   "cell_type": "markdown",
   "metadata": {
    "heading_collapsed": true
   },
   "source": [
    "###  Environment"
   ]
  },
  {
   "cell_type": "markdown",
   "metadata": {
    "hidden": true
   },
   "source": [
    "The environment is a simpler version of the popular blackjack game. The environment is taken from the Sutton & Barto book Example 5.1.  \n",
    "Objective of the game is to obtain cards, the sum of whose numerical value is as great as possible without exceeding 21. All the face cards are counted as 10, and an ace can be counted either as 1 or 11.\n",
    "In this version of the game, the player and dealer only compete with each other. In the actual version of the game there are multiple players playing against the dealer.\n",
    "To begin, both the player and the dealer are dealt with(given) 2 cards. If the player's cards has the sum of 21, the player wins immediately unless the dealer also has a sum of 21, if that is the case then the game is drawn. One of the dealer's card is face up and one is face down, i.e. player can see one card of the dealer.\n",
    "If the player does not have a 21 to begin with(which usually is the case), then he can request for another card, one by one(called hits), until he stops(sticks) or his sum exceeds 21(meaning he goes bust and loses). If the player sticks then it becomes the dealer's turn. The dealer follows a fixed strategy, he \"hits\" for any sum less than 17 and \"sticks\" otherwise. If the dealer goes bust(i.e his sum exceeds 21) then player wins.\n",
    "There are three final outcomes; win, draw, lose. The final outcome is determined by whose final sum is closer to 21.\n",
    "\n",
    "Each game of blackjack is considered as an episode. Rewards for winning, drawing and losing are +1, 0, -1 respectively. There are no immediate rewards, the terminal rewards are the returns. The state of the player depends on the player's cards and the dealers visible card. We assume that the cards are dealt from an infinite deck with replacement. If the player holds an ace that he could count as 11 without going bust, then the ace is said to be usable. In this case it is always counted as 11. Thus, the player makes decision based on three variables, his current sum, the dealers showing card and whether or not he holds an usable ace.\n",
    "\n",
    "His current sum can go from (4 - 32). As the minimum will be when he has both 2's, since if he has either of the card as one, then it will be counted as 11 and it will make the sum larger.\n",
    "\n",
    "The dealers card can be from (1-10).\n",
    "\n",
    "Usable ace can be either True or False.\n",
    "\n",
    "Total States  = 29 * 10 * 2 = 580\n",
    "Total Actions = 2\n",
    "\n"
   ]
  },
  {
   "cell_type": "markdown",
   "metadata": {
    "heading_collapsed": true,
    "hidden": true
   },
   "source": [
    "#### MDP"
   ]
  },
  {
   "cell_type": "markdown",
   "metadata": {
    "hidden": true
   },
   "source": [
    "**States**\n",
    "\n",
    "- Current Sum\n",
    "- Dealers Showing Card\n",
    "- Usable Ace\n",
    "\n",
    "**Actions**\n",
    "\n",
    "Stick or Hit\n",
    "\n",
    "**Rewards**\n",
    "\n",
    "+1, 0, -1\n",
    "\n"
   ]
  },
  {
   "cell_type": "markdown",
   "metadata": {
    "heading_collapsed": true
   },
   "source": [
    "### Deterministic Environment - BlackJack"
   ]
  },
  {
   "cell_type": "code",
   "execution_count": 3,
   "metadata": {
    "hidden": true
   },
   "outputs": [],
   "source": [
    "class BlackJackEnv(gym.Env):\n",
    "    \n",
    "    metadata = {'render.modes':['human']}\n",
    "    \n",
    "    def __init__(self):\n",
    "        self.observation_space = spaces.Discrete(580)       \n",
    "        self.action_space = spaces.Discrete(2)\n",
    "        self.step_count = 0                        ### Number of actions taken in the game till now\n",
    "    \n",
    "    \n",
    "    def check_usable_ace(self,hand):\n",
    "        \n",
    "        '''\n",
    "        input  - player or dealer's hand\n",
    "        output - True or False, depending on if the hand has usable ace or not\n",
    "        \n",
    "        function to check if any hand has an usable ace.\n",
    "        if yes, then replaces that 1 with 11 in the hand as the 1 is counted as 11 in this case.\n",
    "        \n",
    "        '''\n",
    "            ### Creating a temporary hand taking the Ace's value as 11 to check of usability\n",
    "        temp_hand = hand.copy()\n",
    "        \n",
    "        ### Checking if the hand has any ace, if not then returns False\n",
    "        if np.any(temp_hand == 1):\n",
    "            \n",
    "            ### If the hand has any ace then replace the ace(1) with 11 in the temporary hand, \n",
    "            ### if there are more than one ace then replaces the first ace(1) with 11\n",
    "            \n",
    "            temp_hand[np.where(temp_hand == 1)[0][0]] = 11\n",
    "\n",
    "            ### After replacement if sum is less than equal to 21, then the ace is usable\n",
    "            if temp_hand.sum() <= 21:\n",
    "                return True\n",
    "\n",
    "        return False\n",
    "        \n",
    "    def use_ace(self,hand):\n",
    "        '''\n",
    "        input - player or dealer's hand\n",
    "        output - new hand with ace(1) replaced with 11\n",
    "        '''\n",
    "        temp_hand = hand.copy()\n",
    "        temp_hand[np.where(temp_hand == 1)[0][0]] = 11\n",
    "        return temp_hand\n",
    "        \n",
    "    \n",
    "    def reset(self):\n",
    "        \n",
    "        '''\n",
    "        function to reset the environment's state\n",
    "        '''\n",
    "        \n",
    "        ### New Player Hand\n",
    "        self.current_hand = np.random.choice(range(1,11),2)\n",
    "        \n",
    "        ### Initialising Usable Ace as False\n",
    "        \n",
    "        self.usable_ace = False\n",
    "        \n",
    "        ### Variable is used to inform whether the dealer has sticked,\n",
    "        ### Used to know when to terminate the game\n",
    "        \n",
    "        self.dealer_stick = False\n",
    "        self.player_stick = False\n",
    "    \n",
    "        \n",
    "        ### Checking if player hand has Usable Ace, if yes, then replacing it with 11.  \n",
    "        if self.check_usable_ace(self.current_hand):\n",
    "            self.usable_ace = True\n",
    "            self.current_hand = self.use_ace(self.current_hand)\n",
    "            \n",
    "        ### State variable Current Sum        \n",
    "        self.current_sum = self.current_hand.sum()\n",
    "        \n",
    "        ### Dealer's New Hand\n",
    "        self.dealer_hand = np.random.choice(range(1,11),2)\n",
    "        \n",
    "        ### Dealer's Sum\n",
    "        self.dealer_sum = self.dealer_hand.sum()\n",
    "        \n",
    "        ### State Variable: Dealer Showing Card\n",
    "        self.dealer_showing_card = self.dealer_hand[0]\n",
    "        \n",
    "        ### Checking if Dealer's hand has Usable Ace, if yes, then replacing it with 11.  \n",
    "        if self.check_usable_ace(self.dealer_hand):\n",
    "            temp_dealer_hand = self.use_ace(self.dealer_hand)\n",
    "            self.dealer_sum = temp_dealer_hand.sum()\n",
    "            \n",
    "        \n",
    "    def take_turn(self,player):\n",
    "        \n",
    "        '''\n",
    "        Used to play one turn of the player, Called from \"step()\" funtion, depending upon the game state\n",
    "        player can have two values - 'player' or 'dealer'\n",
    "        \n",
    "        For each type of player it does the same thing, just changing different variables\n",
    "        \n",
    "        It takes a new random card, adds to the players hand. If there is usable ace, \n",
    "        then replaces ace(1) with 11.\n",
    "        \n",
    "        '''\n",
    "        \n",
    "        if player == 'dealer':\n",
    "            \n",
    "            ### takes a new random card\n",
    "            new_card = np.random.choice(range(1,11))\n",
    "            \n",
    "            ### adding new card to the players hand and making a temporary new hand\n",
    "            new_dealer_hand = np.array(self.dealer_hand.tolist() +  [new_card])\n",
    "            \n",
    "            ### Check if there is usable ace\n",
    "            if self.check_usable_ace(new_dealer_hand):\n",
    "                \n",
    "                ### replace ace(1) with 11\n",
    "                new_dealer_hand = self.use_ace(new_dealer_hand)\n",
    "            \n",
    "            ### Assigning the temporary hand to the players actual hand\n",
    "            self.dealer_hand = new_dealer_hand\n",
    "            \n",
    "            ### Updating the players hand sum variable\n",
    "            self.dealer_sum = self.dealer_hand.sum()\n",
    "                \n",
    "        if player == 'player':\n",
    "            \n",
    "            ### takes a new random card\n",
    "            new_card = np.random.choice(range(1,11))\n",
    "           \n",
    "            ### adding new card to the players hand and making a temporary new hand\n",
    "            new_player_hand = np.array(self.current_hand.tolist()+ [new_card])\n",
    "            \n",
    "            ### Check if there is usable ace\n",
    "            if self.check_usable_ace(new_player_hand):\n",
    "                \n",
    "                ### replace ace(1) with 11\n",
    "                self.usable_ace = True\n",
    "                new_player_hand = self.use_ace(new_player_hand)\n",
    "            \n",
    "            ### Assigning the temporary hand to the players actual hand\n",
    "            self.current_hand = new_player_hand\n",
    "            ### Updating the players hand sum variable\n",
    "            self.current_sum = self.current_hand.sum()\n",
    "            \n",
    "        \n",
    "    def check_game_status(self, mode = 'normal'):\n",
    "        \n",
    "        '''\n",
    "         checks the status of the game, there are two modes\n",
    "         'normal' mode - the default mode, this is used to check after \n",
    "                         each turn whether a terminal state has been reached\n",
    "         'compare' mode - used when we need to compare the totals of both the players\n",
    "                          to judge the winner\n",
    "             \n",
    "         \n",
    "         returns a result dictionary with the winner, whether the game is finished \n",
    "         and the reward of the game\n",
    "        '''\n",
    "        result = {'winner':'',\n",
    "                 'is_done': False,\n",
    "                 'reward':0}\n",
    "        \n",
    "        \n",
    "        if mode == 'normal':\n",
    "        \n",
    "            if self.current_sum > 21:\n",
    "                result['winner'] = 'dealer'\n",
    "                result['is_done'] = True\n",
    "                result['reward'] = -1\n",
    "            elif self.dealer_sum > 21:\n",
    "                result['winner'] = 'player'\n",
    "                result['is_done'] = True\n",
    "                result['reward'] = 1\n",
    "\n",
    "            elif self.current_sum == 21:\n",
    "                result['winner'] = 'player'\n",
    "                result['is_done'] = True\n",
    "                result['reward'] = 1\n",
    "\n",
    "            elif self.dealer_sum == 21:\n",
    "                result['winner'] = 'dealer'\n",
    "                result['is_done'] = True\n",
    "                result['reward'] = -1\n",
    "        \n",
    "        elif mode == 'compare':\n",
    "            \n",
    "            result['is_done'] = True\n",
    "            diff_21_player = 21 - self.current_sum \n",
    "            diff_21_dealer = 21 - self.dealer_sum\n",
    "\n",
    "            if diff_21_player > diff_21_dealer:\n",
    "                result['reward'] = -1\n",
    "                result['winner'] = 'dealer'\n",
    "            elif diff_21_player < diff_21_dealer:\n",
    "                result['reward'] = 1\n",
    "                result['winner'] = 'player'\n",
    "            else:\n",
    "                result['reward'] = 0\n",
    "                result['winner'] = 'draw'\n",
    "            \n",
    "            return result\n",
    "        \n",
    "        \n",
    "        return result\n",
    "    \n",
    "    def step(self,action):\n",
    "        \n",
    "        '''\n",
    "        Performs one action, either Hit or Stick\n",
    "        \n",
    "        returns - a result dictionary with the winner, whether the game is finished \n",
    "        and the reward of the game\n",
    "        \n",
    "        '''\n",
    "        \n",
    "        self.step_count += 1  ### Number of actions taken in the game till now\n",
    "        \n",
    "        \n",
    "        result = {'winner':'',\n",
    "                 'is_done': False,\n",
    "                 'reward':0} \n",
    "        \n",
    "        ### Before taking the first step of the game we need to check for \"natural\" \n",
    "        ### winning condition if the initial two cards of the players are 21\n",
    "        ### If anyone has 21, then that player wins, if both have 21, then the game is \n",
    "        ### drawn. Otherwise the game will continue\n",
    "        \n",
    "        if self.step_count == 1:\n",
    "            if self.check_usable_ace(self.current_hand):\n",
    "                self.current_hand = self.use_ace(self.current_hand)\n",
    "            if self.check_usable_ace(self.dealer_hand):\n",
    "                self.current_hand = self.use_ace(self.dealer_hand)\n",
    "            \n",
    "            if self.current_sum == 21 and self.dealer_sum == 21:\n",
    "                result['is_done'] = True\n",
    "                result['reward'] = 0\n",
    "                result['winner'] = 'draw'\n",
    "                return result\n",
    "                \n",
    "            elif self.current_sum == 21 and self.dealer_sum < 21:\n",
    "                result['is_done'] = True\n",
    "                result['reward'] = 1\n",
    "                result['winner'] = 'player'\n",
    "                return result\n",
    "                \n",
    "            elif self.dealer_sum == 21 and self.current_sum < 21:\n",
    "                result['is_done'] = True\n",
    "                result['reward'] = -1\n",
    "                result['winner'] = 'dealer'\n",
    "                return result\n",
    "            \n",
    "            if self.dealer_sum >= 17:\n",
    "                self.dealer_stick = True\n",
    "        \n",
    "        ### action = 0, meaning \"hit\"\n",
    "        \n",
    "        if action == 0: \n",
    "            \n",
    "            ### Player Takes Turn\n",
    "            self.take_turn('player')\n",
    "            \n",
    "            ### Checking game status \n",
    "            result = self.check_game_status()\n",
    "            if result['is_done'] == True:\n",
    "                return result\n",
    "                \n",
    "                \n",
    "        \n",
    "        if action == 1:  ### stick\n",
    "            \n",
    "            if self.dealer_stick == True:  ### if dealer has already sticked\n",
    "                  return self.check_game_status(mode = 'compare')\n",
    "            \n",
    "            ### if dealer has not sticked, the dealer hits unless his sum >= 17, then he sticks\n",
    "            \n",
    "            ### Dealers Turn\n",
    "            while self.dealer_sum < 17:\n",
    "                \n",
    "                self.take_turn('dealer')\n",
    "                result = self.check_game_status()\n",
    "                #game_status = result['is_done']    ### To check game status after Dealer sticks\n",
    "                if result['is_done'] == True:\n",
    "                    return result\n",
    "            \n",
    "            ### if the game is not finished yet, then we set dealer_stick status to True\n",
    "            ### This means that our player can hit or stick \n",
    "            \n",
    "            \n",
    "            self.dealer_stick = True\n",
    "            \n",
    "          \n",
    "        return result\n",
    "        \n",
    "        \n",
    "    def get_current_state(self):\n",
    "        '''\n",
    "        returns the current state variables, current_sum, dealer_showing_card, usable_ace\n",
    "        '''\n",
    "        current_state = {}\n",
    "        \n",
    "        current_state['current_sum'] = self.current_sum\n",
    "        current_state['dealer_showing_card'] = self.dealer_showing_card\n",
    "        current_state['usable_ace'] = self.usable_ace\n",
    "        \n",
    "        return current_state\n",
    "    \n",
    "    \n",
    "    def render(self):\n",
    "        \n",
    "        print('OBSERVABLE STATES')\n",
    "        print('Current Sum - {}'.format(self.current_sum))\n",
    "        print('Dealer Showing Card - {}'.format(self.dealer_showing_card))\n",
    "        print('Usable Ace - {}'.format(self.usable_ace))\n",
    "        \n",
    "        print('AUXILLARY INFORMATION ------------------------------')\n",
    "        print('Current Hand - {}'.format(self.current_hand))\n",
    "        print('Dealer Hand - {}'.format(self.dealer_hand))\n",
    "        print('Dealer Sum - {}'.format(self.dealer_sum))\n",
    "    \n",
    "    "
   ]
  },
  {
   "cell_type": "markdown",
   "metadata": {
    "heading_collapsed": true,
    "hidden": true
   },
   "source": [
    "##### Usage Example (One Episode)"
   ]
  },
  {
   "cell_type": "code",
   "execution_count": 4,
   "metadata": {
    "hidden": true
   },
   "outputs": [],
   "source": [
    "bj = BlackJackEnv()"
   ]
  },
  {
   "cell_type": "code",
   "execution_count": 12,
   "metadata": {
    "hidden": true,
    "scrolled": true
   },
   "outputs": [
    {
     "name": "stdout",
     "output_type": "stream",
     "text": [
      "OBSERVABLE STATES\n",
      "Current Sum - 12\n",
      "Dealer Showing Card - 3\n",
      "Usable Ace - False\n",
      "AUXILLARY INFORMATION ------------------------------\n",
      "Current Hand - [7 5]\n",
      "Dealer Hand - [3 2]\n",
      "Dealer Sum - 5\n"
     ]
    }
   ],
   "source": [
    "bj.reset()\n",
    "bj.render()"
   ]
  },
  {
   "cell_type": "code",
   "execution_count": 13,
   "metadata": {
    "hidden": true
   },
   "outputs": [
    {
     "name": "stdout",
     "output_type": "stream",
     "text": [
      "{'winner': '', 'is_done': False, 'reward': 0}\n",
      "OBSERVABLE STATES\n",
      "Current Sum - 18\n",
      "Dealer Showing Card - 3\n",
      "Usable Ace - False\n",
      "AUXILLARY INFORMATION ------------------------------\n",
      "Current Hand - [7 5 6]\n",
      "Dealer Hand - [3 2]\n",
      "Dealer Sum - 5\n"
     ]
    }
   ],
   "source": [
    "print(bj.step(0))  ### Action = Hit\n",
    "bj.render()"
   ]
  },
  {
   "cell_type": "code",
   "execution_count": 14,
   "metadata": {
    "hidden": true
   },
   "outputs": [
    {
     "name": "stdout",
     "output_type": "stream",
     "text": [
      "{'winner': '', 'is_done': False, 'reward': 0}\n",
      "OBSERVABLE STATES\n",
      "Current Sum - 18\n",
      "Dealer Showing Card - 3\n",
      "Usable Ace - False\n",
      "AUXILLARY INFORMATION ------------------------------\n",
      "Current Hand - [7 5 6]\n",
      "Dealer Hand - [3 2 8 6]\n",
      "Dealer Sum - 19\n"
     ]
    }
   ],
   "source": [
    "print(bj.step(1)) ### Action = Stick,  Once the player \"Sticks\", the dealer hits unitil its sum < 17, after that it stops\n",
    "bj.render()"
   ]
  },
  {
   "cell_type": "code",
   "execution_count": 15,
   "metadata": {
    "hidden": true
   },
   "outputs": [
    {
     "name": "stdout",
     "output_type": "stream",
     "text": [
      "{'winner': 'dealer', 'is_done': True, 'reward': -1}\n",
      "OBSERVABLE STATES\n",
      "Current Sum - 18\n",
      "Dealer Showing Card - 3\n",
      "Usable Ace - False\n",
      "AUXILLARY INFORMATION ------------------------------\n",
      "Current Hand - [7 5 6]\n",
      "Dealer Hand - [3 2 8 6]\n",
      "Dealer Sum - 19\n"
     ]
    }
   ],
   "source": [
    "print(bj.step(1)) ### Action = Stick\n",
    "bj.render()"
   ]
  },
  {
   "cell_type": "markdown",
   "metadata": {
    "heading_collapsed": true
   },
   "source": [
    "### Stochastic Environment -  BlackJack"
   ]
  },
  {
   "cell_type": "code",
   "execution_count": 16,
   "metadata": {
    "hidden": true
   },
   "outputs": [],
   "source": [
    "class BlackJackEnv_Stochastic(gym.Env):\n",
    "    \n",
    "    metadata = {'render.modes':['human']}\n",
    "    \n",
    "    def __init__(self):\n",
    "        self.observation_space = spaces.Discrete(580)       \n",
    "        self.action_space = spaces.Discrete(2)\n",
    "        self.step_count = 0                        ### Number of actions taken in the game till now\n",
    "    \n",
    "    \n",
    "    def check_usable_ace(self,hand):\n",
    "        \n",
    "        '''\n",
    "        input  - player or dealer's hand\n",
    "        output - True or False, depending on if the hand has usable ace or not\n",
    "        \n",
    "        function to check if any hand has an usable ace.\n",
    "        if yes, then replaces that 1 with 11 in the hand as the 1 is counted as 11 in this case.\n",
    "        \n",
    "        '''\n",
    "            ### Creating a temporary hand taking the Ace's value as 11 to check of usability\n",
    "        temp_hand = hand.copy()\n",
    "        \n",
    "        ### Checking if the hand has any ace, if not then returns False\n",
    "        if np.any(temp_hand == 1):\n",
    "            \n",
    "            ### If the hand has any ace then replace the ace(1) with 11 in the temporary hand, \n",
    "            ### if there are more than one ace then replaces the first ace(1) with 11\n",
    "            \n",
    "            temp_hand[np.where(temp_hand == 1)[0][0]] = 11\n",
    "\n",
    "            ### After replacement if sum is less than equal to 21, then the ace is usable\n",
    "            if temp_hand.sum() <= 21:\n",
    "                return True\n",
    "\n",
    "        return False\n",
    "        \n",
    "    def use_ace(self,hand):\n",
    "        '''\n",
    "        input - player or dealer's hand\n",
    "        output - new hand with ace(1) replaced with 11\n",
    "        '''\n",
    "        temp_hand = hand.copy()\n",
    "        temp_hand[np.where(temp_hand == 1)[0][0]] = 11\n",
    "        return temp_hand\n",
    "        \n",
    "    \n",
    "    def reset(self):\n",
    "        \n",
    "        '''\n",
    "        function to reset the environment's state\n",
    "        '''\n",
    "        \n",
    "        ### New Player Hand\n",
    "        self.current_hand = np.random.choice(range(1,11),2)\n",
    "        \n",
    "        ### Initialising Usable Ace as False\n",
    "        \n",
    "        self.usable_ace = False\n",
    "        \n",
    "        ### Variable is used to inform whether the dealer has sticked,\n",
    "        ### Used to know when to terminate the game\n",
    "        \n",
    "        self.dealer_stick = False\n",
    "        self.player_stick = False\n",
    "    \n",
    "        \n",
    "        ### Checking if player hand has Usable Ace, if yes, then replacing it with 11.  \n",
    "        if self.check_usable_ace(self.current_hand):\n",
    "            self.usable_ace = True\n",
    "            self.current_hand = self.use_ace(self.current_hand)\n",
    "            \n",
    "        ### State variable Current Sum        \n",
    "        self.current_sum = self.current_hand.sum()\n",
    "        \n",
    "        ### Dealer's New Hand\n",
    "        self.dealer_hand = np.random.choice(range(1,11),2)\n",
    "        \n",
    "        ### Dealer's Sum\n",
    "        self.dealer_sum = self.dealer_hand.sum()\n",
    "        \n",
    "        ### State Variable: Dealer Showing Card\n",
    "        self.dealer_showing_card = self.dealer_hand[0]\n",
    "        \n",
    "        ### Checking if Dealer's hand has Usable Ace, if yes, then replacing it with 11.  \n",
    "        if self.check_usable_ace(self.dealer_hand):\n",
    "            temp_dealer_hand = self.use_ace(self.dealer_hand)\n",
    "            self.dealer_sum = temp_dealer_hand.sum()\n",
    "            \n",
    "        \n",
    "    def take_turn(self,player):\n",
    "        \n",
    "        '''\n",
    "        Used to play one turn of the player, Called from \"step()\" funtion, depending upon the game state\n",
    "        player can have two values - 'player' or 'dealer'\n",
    "        \n",
    "        For each type of player it does the same thing, just changing different variables\n",
    "        \n",
    "        It takes a new random card, adds to the players hand. If there is usable ace, \n",
    "        then replaces ace(1) with 11.\n",
    "        \n",
    "        '''\n",
    "        \n",
    "        if player == 'dealer':\n",
    "            \n",
    "            ### takes a new random card\n",
    "            new_card = np.random.choice(range(1,11))\n",
    "            \n",
    "            ### adding new card to the players hand and making a temporary new hand\n",
    "            new_dealer_hand = np.array(self.dealer_hand.tolist() +  [new_card])\n",
    "            \n",
    "            ### Check if there is usable ace\n",
    "            if self.check_usable_ace(new_dealer_hand):\n",
    "                \n",
    "                ### replace ace(1) with 11\n",
    "                new_dealer_hand = self.use_ace(new_dealer_hand)\n",
    "            \n",
    "            ### Assigning the temporary hand to the players actual hand\n",
    "            self.dealer_hand = new_dealer_hand\n",
    "            \n",
    "            ### Updating the players hand sum variable\n",
    "            self.dealer_sum = self.dealer_hand.sum()\n",
    "                \n",
    "        if player == 'player':\n",
    "            \n",
    "            ### takes a new random card\n",
    "            new_card = np.random.choice(range(1,11))\n",
    "           \n",
    "            ### adding new card to the players hand and making a temporary new hand\n",
    "            new_player_hand = np.array(self.current_hand.tolist()+ [new_card])\n",
    "            \n",
    "            ### Check if there is usable ace\n",
    "            if self.check_usable_ace(new_player_hand):\n",
    "                \n",
    "                ### replace ace(1) with 11\n",
    "                self.usable_ace = True\n",
    "                new_player_hand = self.use_ace(new_player_hand)\n",
    "            \n",
    "            ### Assigning the temporary hand to the players actual hand\n",
    "            self.current_hand = new_player_hand\n",
    "            ### Updating the players hand sum variable\n",
    "            self.current_sum = self.current_hand.sum()\n",
    "            \n",
    "        \n",
    "    def check_game_status(self, mode = 'normal'):\n",
    "        \n",
    "        '''\n",
    "         checks the status of the game, there are two modes\n",
    "         'normal' mode - the default mode, this is used to check after \n",
    "                         each turn whether a terminal state has been reached\n",
    "         'compare' mode - used when we need to compare the totals of both the players\n",
    "                          to judge the winner\n",
    "             \n",
    "         \n",
    "         returns a result dictionary with the winner, whether the game is finished \n",
    "         and the reward of the game\n",
    "        '''\n",
    "        result = {'winner':'',\n",
    "                 'is_done': False,\n",
    "                 'reward':0}\n",
    "        \n",
    "        \n",
    "        if mode == 'normal':\n",
    "        \n",
    "            if self.current_sum > 21:\n",
    "                result['winner'] = 'dealer'\n",
    "                result['is_done'] = True\n",
    "                result['reward'] = -1\n",
    "            elif self.dealer_sum > 21:\n",
    "                result['winner'] = 'player'\n",
    "                result['is_done'] = True\n",
    "                result['reward'] = 1\n",
    "\n",
    "            elif self.current_sum == 21:\n",
    "                result['winner'] = 'player'\n",
    "                result['is_done'] = True\n",
    "                result['reward'] = 1\n",
    "\n",
    "            elif self.dealer_sum == 21:\n",
    "                result['winner'] = 'dealer'\n",
    "                result['is_done'] = True\n",
    "                result['reward'] = -1\n",
    "        \n",
    "        elif mode == 'compare':\n",
    "            \n",
    "            result['is_done'] = True\n",
    "            diff_21_player = 21 - self.current_sum \n",
    "            diff_21_dealer = 21 - self.dealer_sum\n",
    "\n",
    "            if diff_21_player > diff_21_dealer:\n",
    "                result['reward'] = -1\n",
    "                result['winner'] = 'dealer'\n",
    "            elif diff_21_player < diff_21_dealer:\n",
    "                result['reward'] = 1\n",
    "                result['winner'] = 'player'\n",
    "            else:\n",
    "                result['reward'] = 0\n",
    "                result['winner'] = 'draw'\n",
    "            \n",
    "            return result\n",
    "        \n",
    "        \n",
    "        return result\n",
    "    \n",
    "    def step(self,action_intended):\n",
    "        \n",
    "        '''\n",
    "        Performs one action, either Hit or Stick\n",
    "        \n",
    "        returns - a result dictionary with the winner, whether the game is finished \n",
    "        and the reward of the game\n",
    "        \n",
    "        '''\n",
    "        \n",
    "        self.step_count += 1  ### Number of actions taken in the game till now\n",
    "        \n",
    "        \n",
    "        result = {'winner':'',\n",
    "                 'is_done': False,\n",
    "                 'reward':0} \n",
    "        \n",
    "        ### Before taking the first step of the game we need to check for \"natural\" \n",
    "        ### winning condition if the initial two cards of the players are 21\n",
    "        ### If anyone has 21, then that player wins, if both have 21, then the game is \n",
    "        ### drawn. Otherwise the game will continue\n",
    "        \n",
    "        if self.step_count == 1:\n",
    "            if self.check_usable_ace(self.current_hand):\n",
    "                self.current_hand = self.use_ace(self.current_hand)\n",
    "            if self.check_usable_ace(self.dealer_hand):\n",
    "                self.current_hand = self.use_ace(self.dealer_hand)\n",
    "            \n",
    "            if self.current_sum == 21 and self.dealer_sum == 21:\n",
    "                result['is_done'] = True\n",
    "                result['reward'] = 0\n",
    "                result['winner'] = 'draw'\n",
    "                return result\n",
    "                \n",
    "            elif self.current_sum == 21 and self.dealer_sum < 21:\n",
    "                result['is_done'] = True\n",
    "                result['reward'] = 1\n",
    "                result['winner'] = 'player'\n",
    "                return result\n",
    "                \n",
    "            elif self.dealer_sum == 21 and self.current_sum < 21:\n",
    "                result['is_done'] = True\n",
    "                result['reward'] = -1\n",
    "                result['winner'] = 'dealer'\n",
    "                return result\n",
    "            \n",
    "            if self.dealer_sum >= 17:\n",
    "                self.dealer_stick = True\n",
    "        \n",
    "        \n",
    "        #### Adding Stochastic Behaviour\n",
    "        \n",
    "        p = []\n",
    "        if action_intended == 0:\n",
    "            p = [0.90, 0.10]\n",
    "        else:\n",
    "             p = [0.10, 0.90]\n",
    "            \n",
    "        #### If intended action is 0(hit), then choosing that action with 90% probability\n",
    "        #### If intended action is 1(stick), then choosing that action with 90% probability\n",
    "        \n",
    "        action = np.random.choice([0,1], p = p)\n",
    "        \n",
    "        \n",
    "        \n",
    "        ### action = 0, meaning \"hit\"\n",
    "        \n",
    "        if action == 0: \n",
    "            \n",
    "            ### Player Takes Turn\n",
    "            self.take_turn('player')\n",
    "            \n",
    "            ### Checking game status \n",
    "            result = self.check_game_status()\n",
    "            if result['is_done'] == True:\n",
    "                return result\n",
    "                \n",
    "                \n",
    "        \n",
    "        if action == 1:  ### stick\n",
    "            \n",
    "            if self.dealer_stick == True:  ### if dealer has already sticked\n",
    "                  return self.check_game_status(mode = 'compare')\n",
    "            \n",
    "            ### if dealer has not sticked, the dealer hits unless his sum >= 17, then he sticks\n",
    "            \n",
    "            ### Dealers Turn\n",
    "            while self.dealer_sum < 17:\n",
    "                \n",
    "                self.take_turn('dealer')\n",
    "                result = self.check_game_status()\n",
    "                #game_status = result['is_done']    ### To check game status after Dealer sticks\n",
    "                if result['is_done'] == True:\n",
    "                    return result\n",
    "            \n",
    "            ### if the game is not finished yet, then we set dealer_stick status to True\n",
    "            ### This means that our player can hit or stick \n",
    "            \n",
    "            \n",
    "            self.dealer_stick = True\n",
    "            \n",
    "          \n",
    "        return result\n",
    "        \n",
    "        \n",
    "    def get_current_state(self):\n",
    "        '''\n",
    "        returns the current state variables, current_sum, dealer_showing_card, usable_ace\n",
    "        '''\n",
    "        current_state = {}\n",
    "        \n",
    "        current_state['current_sum'] = self.current_sum\n",
    "        current_state['dealer_showing_card'] = self.dealer_showing_card\n",
    "        current_state['usable_ace'] = self.usable_ace\n",
    "        \n",
    "        return current_state\n",
    "    \n",
    "    \n",
    "    def render(self):\n",
    "        \n",
    "        print('OBSERVABLE STATES')\n",
    "        print('Current Sum - {}'.format(self.current_sum))\n",
    "        print('Dealer Showing Card - {}'.format(self.dealer_showing_card))\n",
    "        print('Usable Ace - {}'.format(self.usable_ace))\n",
    "        \n",
    "        print('AUXILLARY INFORMATION ------------------------------')\n",
    "        print('Current Hand - {}'.format(self.current_hand))\n",
    "        print('Dealer Hand - {}'.format(self.dealer_hand))\n",
    "        print('Dealer Sum - {}'.format(self.dealer_sum))\n",
    "    \n",
    "    "
   ]
  },
  {
   "cell_type": "markdown",
   "metadata": {
    "heading_collapsed": true,
    "hidden": true
   },
   "source": [
    "##### Usage Example "
   ]
  },
  {
   "cell_type": "code",
   "execution_count": 26,
   "metadata": {
    "hidden": true
   },
   "outputs": [],
   "source": [
    "bjs = BlackJackEnv_Stochastic()"
   ]
  },
  {
   "cell_type": "code",
   "execution_count": 49,
   "metadata": {
    "hidden": true
   },
   "outputs": [
    {
     "name": "stdout",
     "output_type": "stream",
     "text": [
      "OBSERVABLE STATES\n",
      "Current Sum - 10\n",
      "Dealer Showing Card - 2\n",
      "Usable Ace - False\n",
      "AUXILLARY INFORMATION ------------------------------\n",
      "Current Hand - [2 8]\n",
      "Dealer Hand - [2 4]\n",
      "Dealer Sum - 6\n"
     ]
    }
   ],
   "source": [
    "bjs.reset()\n",
    "bjs.render()\n"
   ]
  },
  {
   "cell_type": "code",
   "execution_count": 50,
   "metadata": {
    "hidden": true
   },
   "outputs": [
    {
     "name": "stdout",
     "output_type": "stream",
     "text": [
      "OBSERVABLE STATES\n",
      "Current Sum - 19\n",
      "Dealer Showing Card - 2\n",
      "Usable Ace - False\n",
      "AUXILLARY INFORMATION ------------------------------\n",
      "Current Hand - [2 8 9]\n",
      "Dealer Hand - [2 4]\n",
      "Dealer Sum - 6\n"
     ]
    }
   ],
   "source": [
    "bjs.step(1) ### The action intended was 1(stick), but the change in states show that the action taken was 0(hit)\n",
    "bjs.render()"
   ]
  },
  {
   "cell_type": "code",
   "execution_count": 51,
   "metadata": {
    "hidden": true
   },
   "outputs": [
    {
     "name": "stdout",
     "output_type": "stream",
     "text": [
      "OBSERVABLE STATES\n",
      "Current Sum - 19\n",
      "Dealer Showing Card - 2\n",
      "Usable Ace - False\n",
      "AUXILLARY INFORMATION ------------------------------\n",
      "Current Hand - [2 8 9]\n",
      "Dealer Hand - [2 4 7 6]\n",
      "Dealer Sum - 19\n"
     ]
    }
   ],
   "source": [
    "bjs.step(1) ### The action intended was 1(stick), and the player states show us that the action was infact 1(stick), \n",
    "            ### as there is no change in the player sum\n",
    "bjs.render()"
   ]
  },
  {
   "cell_type": "markdown",
   "metadata": {
    "heading_collapsed": true
   },
   "source": [
    "### Tabular Method"
   ]
  },
  {
   "cell_type": "markdown",
   "metadata": {
    "heading_collapsed": true,
    "hidden": true
   },
   "source": [
    "#### Q-Learning Explained"
   ]
  },
  {
   "cell_type": "markdown",
   "metadata": {
    "hidden": true
   },
   "source": [
    "Q-Learning is a model free, off policy tabular method to learn the action-state value function for a MDP. Since this is a model free method we do not require a specific state-transition probability matrix. Q Learning uses bootstrapping, we take one step in the environment, observe the reward and next state, then update the state-action function value for the current state and the action taken Q(S,A) using the Q values for the next_state and the next_action. \n",
    "While updating the Q(S,A) for the current state and action, for calculating the state-action value for the next state, we take the action which has the maximum Q value for the next state. Hence this makes Q-Learning off policy, as while updating the estimate of the current Q(S,A), the next action that we take does not come from the current policy(derived from Q) but we choose action with the max Q value for the next state.\n"
   ]
  },
  {
   "cell_type": "markdown",
   "metadata": {
    "heading_collapsed": true,
    "hidden": true
   },
   "source": [
    "#### Q- Learning Util Functions "
   ]
  },
  {
   "cell_type": "markdown",
   "metadata": {
    "hidden": true
   },
   "source": [
    "**Q Table Information **\n",
    "\n",
    "- first dimension  - current sum(4-32)                                   \n",
    "- second dimension - dealers showing card (1-10)\n",
    "- third dimension  - usable ace (False,True) \n",
    "- fourth dimension - action (stick, hit)"
   ]
  },
  {
   "cell_type": "code",
   "execution_count": 52,
   "metadata": {
    "hidden": true
   },
   "outputs": [],
   "source": [
    "\n",
    "#### following are 4 dictionaries which help in converting the \n",
    "#### state values like current_sum and action to indexes in the Q value table\n",
    "\n",
    "\n",
    "current_sum_to_index = dict(zip(np.arange(4,33),np.arange(29)))  \n",
    "dealer_showing_card_to_index = dict(zip(np.arange(1,11),np.arange(10)))\n",
    "usable_ace_index = dict(zip([False,True],[0,1]))\n",
    "action_index = dict(zip(['hit','stick'],[0,1]))\n",
    "\n",
    "def get_state_q_indices(current_state):\n",
    "    \n",
    "    '''\n",
    "    used to get indices of the Q table for any given state \n",
    "    \n",
    "    '''\n",
    "    current_sum_idx = current_sum_to_index[current_state['current_sum']]\n",
    "    dealer_showing_card_idx = dealer_showing_card_to_index[current_state['dealer_showing_card']]\n",
    "    usable_ace_idx = usable_ace_index[current_state['usable_ace']]\n",
    "    \n",
    "    return [current_sum_idx,dealer_showing_card_idx,usable_ace_idx]\n",
    "\n",
    "def get_max_action(Q_sa, current_state):\n",
    "    \n",
    "    '''\n",
    "    used to get the action with the max q-value given the current state and the Q table\n",
    "    \n",
    "    '''\n",
    "\n",
    "    state_q_idxs = get_state_q_indices(current_state)\n",
    "    action = Q_sa[state_q_idxs[0],state_q_idxs[1],state_q_idxs[2],:].argmax() ## stick = 0, hit = 1\n",
    "    ### if q value of both equal returns stick\n",
    "    \n",
    "    ### can make it epsilon greedy\n",
    "    \n",
    "    return action\n",
    "\n",
    "def get_q_value(Q_sa, state, action):\n",
    "    '''\n",
    "    used to get Q value for any given state and action, given the Q table\n",
    "    \n",
    "    '''\n",
    "    state_q_idxs = get_state_q_indices(state)\n",
    "    q_value = Q_sa[state_q_idxs[0],state_q_idxs[1],state_q_idxs[2],action]\n",
    "\n",
    "    return q_value"
   ]
  },
  {
   "cell_type": "markdown",
   "metadata": {
    "heading_collapsed": true,
    "hidden": true
   },
   "source": [
    "#### Q-Learning  "
   ]
  },
  {
   "cell_type": "code",
   "execution_count": 53,
   "metadata": {
    "hidden": true
   },
   "outputs": [],
   "source": [
    "### first dimension  - current sum (4-32)\n",
    "### second dimension - dealers showing card (1-10)\n",
    "### third dimension  - usable ace (False,True) \n",
    "### fourth dimension - action (hit, stick)\n",
    "\n",
    "Q = np.zeros((29,10,2,2)) #### Initializing the Q value Table with zeros"
   ]
  },
  {
   "cell_type": "code",
   "execution_count": 54,
   "metadata": {
    "hidden": true
   },
   "outputs": [
    {
     "name": "stdout",
     "output_type": "stream",
     "text": [
      "---------Episode - 100000 -----------\n",
      "---------Episode - 200000 -----------\n",
      "---------Episode - 300000 -----------\n",
      "---------Episode - 400000 -----------\n",
      "---------Episode - 500000 -----------\n",
      "---------Episode - 600000 -----------\n",
      "---------Episode - 700000 -----------\n",
      "---------Episode - 800000 -----------\n",
      "---------Episode - 900000 -----------\n",
      "---------Episode - 1000000 -----------\n"
     ]
    }
   ],
   "source": [
    "episode_count = 0\n",
    "total_episodes = 1000000\n",
    "gamma = 0.9             #### the discount factor\n",
    "alpha = 0.1             #### learning rate\n",
    "bj = BlackJackEnv()\n",
    "\n",
    "\n",
    "while episode_count < total_episodes:\n",
    "    \n",
    "    \n",
    "    bj.reset()  ### Initialize S (the environment's starting state)\n",
    "    \n",
    "\n",
    "    current_state = bj.get_current_state()\n",
    "    current_action = get_max_action(Q, current_state)\n",
    "    \n",
    "    \n",
    "    ### Take Action\n",
    "    step_result = bj.step(current_action)\n",
    "    \n",
    "    next_state = bj.get_current_state()\n",
    "    next_max_action = get_max_action(Q, next_state)\n",
    "    immediate_reward = step_result['reward']\n",
    "    \n",
    "    \n",
    "    \n",
    "    next_state_q_idxs = get_state_q_indices(next_state)\n",
    "    \n",
    "    #### Get Q value for the next state and max action in the next state\n",
    "    q_max_s_a = get_q_value(Q, next_state, next_max_action)\n",
    "    \n",
    "    td_target = immediate_reward + gamma * q_max_s_a\n",
    "    \n",
    "    #### Getting Q value for the current state and action\n",
    "    q_current_s_a = get_q_value(Q, current_state, current_action)\n",
    "    \n",
    "    td_error = td_target - q_current_s_a\n",
    "    \n",
    "    state_q_idxs = get_state_q_indices(current_state)\n",
    "    \n",
    "    #### Updating current Q(S,A)\n",
    "    Q[state_q_idxs[0],state_q_idxs[1],state_q_idxs[2],current_action] = q_current_s_a + alpha*td_error\n",
    "                                                                        \n",
    "    current_state = next_state  ### S=S'\n",
    "    \n",
    "    if step_result['is_done']:\n",
    "        episode_count+=1\n",
    "        \n",
    "        if episode_count%100000 == 0:\n",
    "            print('---------Episode - {} -----------'.format(episode_count))\n",
    "            \n",
    "   "
   ]
  },
  {
   "cell_type": "markdown",
   "metadata": {
    "heading_collapsed": true
   },
   "source": [
    "### Q Value Plots "
   ]
  },
  {
   "cell_type": "markdown",
   "metadata": {
    "heading_collapsed": true,
    "hidden": true
   },
   "source": [
    "#### Usable Ace = False"
   ]
  },
  {
   "cell_type": "code",
   "execution_count": 55,
   "metadata": {
    "hidden": true,
    "scrolled": false
   },
   "outputs": [
    {
     "data": {
      "text/plain": [
       "Text(609.9818181818181, 0.5, 'Current Player Sum')"
      ]
     },
     "execution_count": 55,
     "metadata": {},
     "output_type": "execute_result"
    },
    {
     "data": {
      "image/png": "[encoded data removed]",
      "text/plain": [
       "<Figure size 1152x576 with 4 Axes>"
      ]
     },
     "metadata": {
      "needs_background": "light"
     },
     "output_type": "display_data"
    }
   ],
   "source": [
    "fig, ax = plt.subplots(ncols= 2,figsize=(16,8)) \n",
    "sns.heatmap(Q[:,:,0,0],cmap = sns.light_palette((210, 90, 60), input=\"husl\"), ax = ax[0], \n",
    "            xticklabels=np.arange(1,11),yticklabels=np.arange(4,33))\n",
    "ax[0].set_title('Usable Ace = False, Action = Hit')\n",
    "ax[0].set_xlabel('Dealer Showing Card')\n",
    "ax[0].set_ylabel('Current Player Sum')\n",
    "\n",
    "\n",
    "sns.heatmap(Q[:,:,0,1],cmap = sns.light_palette((210, 90, 60), input=\"husl\"), ax = ax[1],\n",
    "           xticklabels=np.arange(1,11),yticklabels=np.arange(4,33))\n",
    "ax[1].set_title('Usable Ace = False, Action = Stick')\n",
    "ax[1].set_xlabel('Dealer Showing Card')\n",
    "ax[1].set_ylabel('Current Player Sum')"
   ]
  },
  {
   "cell_type": "markdown",
   "metadata": {
    "hidden": true
   },
   "source": [
    "> Using the table we can easily see which action is good to take in each state. It has learned that when the current sum is less than 12-13 it is good to Hit. Also we can see that for higher dealer showing card and greater values of current_sum it is better to stick"
   ]
  },
  {
   "cell_type": "markdown",
   "metadata": {
    "heading_collapsed": true,
    "hidden": true
   },
   "source": [
    "#### Usable Ace = True"
   ]
  },
  {
   "cell_type": "code",
   "execution_count": 56,
   "metadata": {
    "hidden": true
   },
   "outputs": [
    {
     "data": {
      "text/plain": [
       "Text(609.9818181818181, 0.5, 'Current Player Sum')"
      ]
     },
     "execution_count": 56,
     "metadata": {},
     "output_type": "execute_result"
    },
    {
     "data": {
      "image/png": "[encoded data removed]",
      "text/plain": [
       "<Figure size 1152x576 with 4 Axes>"
      ]
     },
     "metadata": {
      "needs_background": "light"
     },
     "output_type": "display_data"
    }
   ],
   "source": [
    "fig, ax = plt.subplots(ncols = 2, figsize=(16,8)) \n",
    "sns.heatmap(Q[:,:,1,0],cmap = sns.light_palette((210, 90, 60), input=\"husl\"), ax = ax[0],\n",
    "           xticklabels=np.arange(1,11),yticklabels=np.arange(4,33))\n",
    "ax[0].set_title('Usable Ace = True, Action = Hit')\n",
    "ax[0].set_xlabel('Dealer Showing Card')\n",
    "ax[0].set_ylabel('Current Player Sum')\n",
    "\n",
    "\n",
    "sns.heatmap(Q[:,:,1,1],cmap = sns.light_palette((210, 90, 60), input=\"husl\"), ax =  ax[1],\n",
    "           xticklabels=np.arange(1,11),yticklabels=np.arange(4,33))\n",
    "ax[1].set_title('Usable Ace = True, Action = Stick')\n",
    "ax[1].set_xlabel('Dealer Showing Card')\n",
    "ax[1].set_ylabel('Current Player Sum')"
   ]
  },
  {
   "cell_type": "markdown",
   "metadata": {
    "hidden": true
   },
   "source": [
    ">Since the samples for Usable Ace = True are very sparse, the Q Values patterns are not very clear, but we still can see the general pattern that if the current sum > 13 it is good to \"Stick\" when the dealer showing card is towards the higher end.\n",
    "Also, for current sum around 11-12 it is good to \"Hit\" if Usable Ace = True"
   ]
  },
  {
   "cell_type": "markdown",
   "metadata": {
    "heading_collapsed": true
   },
   "source": [
    "### Learned Policy "
   ]
  },
  {
   "cell_type": "markdown",
   "metadata": {
    "hidden": true
   },
   "source": [
    "Following are learned policy plots using the Q Table (Greedy Policy) for all non terminal states"
   ]
  },
  {
   "cell_type": "markdown",
   "metadata": {
    "heading_collapsed": true,
    "hidden": true
   },
   "source": [
    "#### Usable Ace = False "
   ]
  },
  {
   "cell_type": "code",
   "execution_count": 57,
   "metadata": {
    "hidden": true
   },
   "outputs": [
    {
     "data": {
      "text/plain": [
       "Text(51.0, 0.5, 'Current Player Sum')"
      ]
     },
     "execution_count": 57,
     "metadata": {},
     "output_type": "execute_result"
    },
    {
     "data": {
      "image/png": "[encoded data removed]",
      "text/plain": [
       "<Figure size 576x432 with 2 Axes>"
      ]
     },
     "metadata": {
      "needs_background": "light"
     },
     "output_type": "display_data"
    }
   ],
   "source": [
    "fig, ax = plt.subplots(ncols= 1,figsize=(8,6)) \n",
    "sns.heatmap(np.argmax(Q[:17,:,0,:],axis=2),cmap = sns.cubehelix_palette(8, start=2, rot=0, dark=0, light=.95, reverse=True)\\\n",
    "           ,linewidths=1,xticklabels=np.arange(1,11),yticklabels=np.arange(4,33))\n",
    "ax.set_title('Usable Ace = False')\n",
    "ax.set_xlabel('Dealer Showing Card')\n",
    "ax.set_ylabel('Current Player Sum')"
   ]
  },
  {
   "cell_type": "markdown",
   "metadata": {
    "hidden": true
   },
   "source": [
    "> Black Blocks Indicate to Take Action \"Hit\" , As Hit corresponds to action = 0"
   ]
  },
  {
   "cell_type": "markdown",
   "metadata": {
    "heading_collapsed": true,
    "hidden": true
   },
   "source": [
    "#### Usable Ace = True "
   ]
  },
  {
   "cell_type": "code",
   "execution_count": 58,
   "metadata": {
    "hidden": true
   },
   "outputs": [
    {
     "data": {
      "text/plain": [
       "Text(51.0, 0.5, 'Current Player Sum')"
      ]
     },
     "execution_count": 58,
     "metadata": {},
     "output_type": "execute_result"
    },
    {
     "data": {
      "image/png": "[encoded data removed]",
      "text/plain": [
       "<Figure size 576x432 with 2 Axes>"
      ]
     },
     "metadata": {
      "needs_background": "light"
     },
     "output_type": "display_data"
    }
   ],
   "source": [
    "fig, ax = plt.subplots(ncols= 1,figsize=(8,6)) \n",
    "sns.heatmap(np.argmax(Q[:17,:,1,:],axis=2),cmap = sns.cubehelix_palette(8, start=2, rot=0, dark=0, light=.95, reverse=True)\\\n",
    "           ,linewidths=1,xticklabels=np.arange(1,11),yticklabels=np.arange(4,33))\n",
    "ax.set_title('Usable Ace = True')\n",
    "ax.set_xlabel('Dealer Showing Card')\n",
    "ax.set_ylabel('Current Player Sum')"
   ]
  },
  {
   "cell_type": "markdown",
   "metadata": {
    "hidden": true
   },
   "source": [
    "> Black Blocks Indicate to Take Action \"Hit\" , As Hit corresponds to action = 0"
   ]
  }
 ],
 "metadata": {
  "kernelspec": {
   "display_name": "Python 3",
   "language": "python",
   "name": "python3"
  },
  "language_info": {
   "codemirror_mode": {
    "name": "ipython",
    "version": 3
   },
   "file_extension": ".py",
   "mimetype": "text/x-python",
   "name": "python",
   "nbconvert_exporter": "python",
   "pygments_lexer": "ipython3",
   "version": "3.6.8"
  }
 },
 "nbformat": 4,
 "nbformat_minor": 2
}
